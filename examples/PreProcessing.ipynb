{
 "cells": [
  {
   "cell_type": "markdown",
   "metadata": {},
   "source": [
    "# pybalmorel for Pre-Processing\n",
    "This notebook provide examples on how to use pybalmorel for pre-processing, post-processing and for executing Balmorel scenarios. Check the following pages:\n",
    "- [Home](../README.md)\n",
    "- [Execution](Execution.ipynb)\n",
    "- [Post-Processing](PostProcessing.ipynb)"
   ]
  },
  {
   "cell_type": "code",
   "execution_count": 1,
   "metadata": {},
   "outputs": [],
   "source": [
    "### 0.1 Use development scripts or the package installed from pip\n",
    "use_development = False\n",
    "if use_development:\n",
    "    import sys\n",
    "    import os\n",
    "    # Adjust the sys.path to include the project root directory\n",
    "    project_root = os.path.abspath(os.path.join(os.path.dirname(\"__file__\"), '..'))\n",
    "    if project_root not in sys.path:\n",
    "        sys.path.insert(0, project_root)\n",
    "    from src.pybalmorel import IncFile, GUI\n",
    "else:\n",
    "    from pybalmorel import IncFile, GUI"
   ]
  },
  {
   "cell_type": "markdown",
   "metadata": {},
   "source": [
    "### Creating .inc Files"
   ]
  },
  {
   "cell_type": "code",
   "execution_count": 6,
   "metadata": {},
   "outputs": [],
   "source": [
    "### Create an .inc file\n",
    "import pandas as pd\n",
    "\n",
    "# Initiate .inc file class\n",
    "DE = IncFile(name='DE',\n",
    "            prefix=\"TABLE   DE1(RRR,DEUSER,YYY)   'Annual electricity consumption (MWh)'\\n\",\n",
    "            suffix=\"\\n;\\nDE(YYY,RRR,DEUSER) = DE1(RRR,DEUSER,YYY);\",\n",
    "            path='Balmorel/sc1/data')\n",
    "\n",
    "\n",
    "# Create annual electricity demand \n",
    "DE.body = pd.DataFrame(index=['DK1', 'DK2'], columns=[2030, 2040, 2050],\n",
    "                       data=[[17e6, 20e6, 25e6],\n",
    "                            [14e6, 17e6, 20e6]])\n",
    "\n",
    "# Fix the index format (in this case, append the DEUSER set to RRR)\n",
    "DE.body.index += ' . RESE'\n",
    "\n",
    "# Save .inc file to path (will save as ./Balmorel/sc1/data/DE.inc)\n",
    "DE.save()"
   ]
  },
  {
   "cell_type": "markdown",
   "metadata": {},
   "source": [
    "## GUI for Generating Geographic .inc Files\n",
    "\n",
    "Will generate the necessary geographic files:\n",
    "- CCCRRRAAA.inc\n",
    "- CCC.inc\n",
    "- RRR.inc\n",
    "- AAA.inc\n",
    "- CCCRRR.inc\n",
    "- RRRAAA.inc"
   ]
  },
  {
   "cell_type": "code",
   "execution_count": null,
   "metadata": {},
   "outputs": [],
   "source": [
    "GUI.geofilemaker()"
   ]
  }
 ],
 "metadata": {
  "kernelspec": {
   "display_name": "Python 3 (ipykernel)",
   "language": "python",
   "name": "python3"
  },
  "language_info": {
   "codemirror_mode": {
    "name": "ipython",
    "version": 3
   },
   "file_extension": ".py",
   "mimetype": "text/x-python",
   "name": "python",
   "nbconvert_exporter": "python",
   "pygments_lexer": "ipython3",
   "version": "3.12.6"
  }
 },
 "nbformat": 4,
 "nbformat_minor": 2
}
