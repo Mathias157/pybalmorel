{
 "cells": [
  {
   "cell_type": "markdown",
   "metadata": {},
   "source": [
    "# pybalmorel for Executing Scenarios\n",
    "This notebook provide examples on how to use pybalmorel for pre-processing, post-processing and for executing Balmorel scenarios. Check the following pages:\n",
    "- [Home](../README.md)\n",
    "- [Pre-Processing](PreProcessing.ipynb)\n",
    "- [Post-Processing](PostProcessing.ipynb)"
   ]
  },
  {
   "cell_type": "code",
   "execution_count": 1,
   "metadata": {},
   "outputs": [],
   "source": [
    "### 0.1 Use development scripts or the package installed from pip\n",
    "use_development = True\n",
    "if use_development:\n",
    "    import sys\n",
    "    import os\n",
    "    # Adjust the sys.path to include the project root directory\n",
    "    project_root = os.path.abspath(os.path.join(os.path.dirname(\"__file__\"), '..'))\n",
    "    if project_root not in sys.path:\n",
    "        sys.path.insert(0, project_root)\n",
    "    from src.pybalmorel import Balmorel\n",
    "else:\n",
    "    from pybalmorel import Balmorel"
   ]
  },
  {
   "cell_type": "markdown",
   "metadata": {},
   "source": [
    "### Balmorel Class\n",
    "\n",
    "The Balmorel class can be used to recognise scenarios, run scenarios and easily collect results "
   ]
  },
  {
   "cell_type": "code",
   "execution_count": null,
   "metadata": {},
   "outputs": [],
   "source": [
    "# Initiate Model Class\n",
    "model = Balmorel('path/to/model/folder')\n",
    "print(model.scenarios) # Print recognised scenarios\n",
    "\n",
    "# Run Model\n",
    "model.run('base', {'some_cmd_line_option' : 'arg'})\n",
    "\n",
    "# Collect MainResults into model.results\n",
    "model.collect_results()\n",
    "model.results.get_result('OBJ_YCR') # Get objective function"
   ]
  }
 ],
 "metadata": {
  "kernelspec": {
   "display_name": "Python 3 (ipykernel)",
   "language": "python",
   "name": "python3"
  },
  "language_info": {
   "codemirror_mode": {
    "name": "ipython",
    "version": 3
   },
   "file_extension": ".py",
   "mimetype": "text/x-python",
   "name": "python",
   "nbconvert_exporter": "python",
   "pygments_lexer": "ipython3",
   "version": "3.9.11"
  }
 },
 "nbformat": 4,
 "nbformat_minor": 2
}
