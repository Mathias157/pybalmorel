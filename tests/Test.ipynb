{
 "cells": [
  {
   "cell_type": "markdown",
   "metadata": {},
   "source": [
    "# Test\n",
    "This script serve as an example on how to use the package, and as a test in developing it\n",
    "\n",
    "Created on 04.06.2024\n",
    "@author: Mathias Berg Rosendal, PhD Student at DTU Management (Energy Economics & Modelling)"
   ]
  },
  {
   "cell_type": "code",
   "execution_count": 1,
   "metadata": {},
   "outputs": [],
   "source": [
    "### Load the local package\n",
    "import sys\n",
    "sys.path.append('../')\n",
    "from src.pybalmorel.functions import MainResults, plot_map, symbol_to_df"
   ]
  },
  {
   "cell_type": "markdown",
   "metadata": {},
   "source": [
    "### 1.1 Using the Interactive Plotting Tool"
   ]
  },
  {
   "cell_type": "code",
   "execution_count": 2,
   "metadata": {},
   "outputs": [
    {
     "name": "stdout",
     "output_type": "stream",
     "text": [
      "--- Warning: The GAMS version (45.7.0) differs from the API version (46.2.0).\n"
     ]
    },
    {
     "data": {
      "application/vnd.jupyter.widget-view+json": {
       "model_id": "c71c9a41bdab48288b018fef52ed58b5",
       "version_major": 2,
       "version_minor": 0
      },
      "text/plain": [
       "GridBox(children=(Dropdown(description='Table:', options=('F_CONS_YCRA', 'F_CONS_YCRAST', 'G_CAP_YCRAF', 'G_ST…"
      ]
     },
     "metadata": {},
     "output_type": "display_data"
    },
    {
     "data": {
      "application/vnd.jupyter.widget-view+json": {
       "model_id": "8efad6dd403d4c54be104b0641c79d3d",
       "version_major": 2,
       "version_minor": 0
      },
      "text/plain": [
       "Output()"
      ]
     },
     "metadata": {},
     "output_type": "display_data"
    },
    {
     "data": {
      "application/vnd.jupyter.widget-view+json": {
       "model_id": "0aa7f98d9af342248ce07df5c2207e3c",
       "version_major": 2,
       "version_minor": 0
      },
      "text/plain": [
       "Stack(children=(GridBox(children=(SelectMultiple(description='Year:', index=(0,), options=('None',), value=('N…"
      ]
     },
     "metadata": {},
     "output_type": "display_data"
    },
    {
     "data": {
      "application/vnd.jupyter.widget-view+json": {
       "model_id": "5f333696187f418dbcc66e9bf1c0952a",
       "version_major": 2,
       "version_minor": 0
      },
      "text/plain": [
       "Output()"
      ]
     },
     "metadata": {},
     "output_type": "display_data"
    },
    {
     "data": {
      "application/vnd.jupyter.widget-view+json": {
       "model_id": "da975c5ae49545999b8c54e4e0f5de51",
       "version_major": 2,
       "version_minor": 0
      },
      "text/plain": [
       "VBox(children=(HBox(children=(Text(value='', description='Title:'), FloatSlider(value=12.0, description='Size:…"
      ]
     },
     "metadata": {},
     "output_type": "display_data"
    },
    {
     "data": {
      "application/vnd.jupyter.widget-view+json": {
       "model_id": "e039aeef77b14950a451efe61a4e6f67",
       "version_major": 2,
       "version_minor": 0
      },
      "text/plain": [
       "Output()"
      ]
     },
     "metadata": {},
     "output_type": "display_data"
    },
    {
     "data": {
      "application/vnd.jupyter.widget-view+json": {
       "model_id": "8e51106ac4594b2e95baf300e89b479a",
       "version_major": 2,
       "version_minor": 0
      },
      "text/plain": [
       "Button(description='Plot', icon='check', style=ButtonStyle(), tooltip='Click to plot')"
      ]
     },
     "metadata": {},
     "output_type": "display_data"
    },
    {
     "data": {
      "application/vnd.jupyter.widget-view+json": {
       "model_id": "e2b2d5d7f50f4d72baa5754756642a71",
       "version_major": 2,
       "version_minor": 0
      },
      "text/plain": [
       "Output()"
      ]
     },
     "metadata": {},
     "output_type": "display_data"
    }
   ],
   "source": [
    "### Opening the interactive bar chart tool\n",
    "res = MainResults('MainResults_ScenarioName.gdx', 'Files')\n",
    "res.bar_chart()"
   ]
  },
  {
   "cell_type": "markdown",
   "metadata": {},
   "source": [
    "### 1.2 Using Other Functions"
   ]
  },
  {
   "cell_type": "code",
   "execution_count": 5,
   "metadata": {},
   "outputs": [
    {
     "name": "stdout",
     "output_type": "stream",
     "text": [
      "--- Warning: The GAMS version (45.7.0) differs from the API version (46.2.0).\n"
     ]
    },
    {
     "data": {
      "text/html": [
       "<div>\n",
       "<style scoped>\n",
       "    .dataframe tbody tr th:only-of-type {\n",
       "        vertical-align: middle;\n",
       "    }\n",
       "\n",
       "    .dataframe tbody tr th {\n",
       "        vertical-align: top;\n",
       "    }\n",
       "\n",
       "    .dataframe thead th {\n",
       "        text-align: right;\n",
       "    }\n",
       "</style>\n",
       "<table border=\"1\" class=\"dataframe\">\n",
       "  <thead>\n",
       "    <tr style=\"text-align: right;\">\n",
       "      <th></th>\n",
       "      <th>Year</th>\n",
       "      <th>Country</th>\n",
       "      <th>Region</th>\n",
       "      <th>Area</th>\n",
       "      <th>Generation</th>\n",
       "      <th>Fuel</th>\n",
       "      <th>Technology</th>\n",
       "      <th>Unit</th>\n",
       "      <th>Value</th>\n",
       "    </tr>\n",
       "  </thead>\n",
       "  <tbody>\n",
       "    <tr>\n",
       "      <th>0</th>\n",
       "      <td>2030</td>\n",
       "      <td>NORWAY</td>\n",
       "      <td>NO1</td>\n",
       "      <td>NO1_A1</td>\n",
       "      <td>MAGICG</td>\n",
       "      <td>MAGICF</td>\n",
       "      <td>CONDENSING</td>\n",
       "      <td>TWh</td>\n",
       "      <td>70.080000</td>\n",
       "    </tr>\n",
       "    <tr>\n",
       "      <th>1</th>\n",
       "      <td>2030</td>\n",
       "      <td>NORWAY</td>\n",
       "      <td>NO1</td>\n",
       "      <td>NO1_A2</td>\n",
       "      <td>MAGICG</td>\n",
       "      <td>MAGICF</td>\n",
       "      <td>CONDENSING</td>\n",
       "      <td>TWh</td>\n",
       "      <td>70.080000</td>\n",
       "    </tr>\n",
       "    <tr>\n",
       "      <th>2</th>\n",
       "      <td>2030</td>\n",
       "      <td>NORWAY</td>\n",
       "      <td>NO1</td>\n",
       "      <td>NO1_A2</td>\n",
       "      <td>GNR_BO_ELEC_E-99</td>\n",
       "      <td>ELECTRIC</td>\n",
       "      <td>ELECT-TO-HEAT</td>\n",
       "      <td>TWh</td>\n",
       "      <td>0.340226</td>\n",
       "    </tr>\n",
       "    <tr>\n",
       "      <th>3</th>\n",
       "      <td>2030</td>\n",
       "      <td>NORWAY</td>\n",
       "      <td>NO1</td>\n",
       "      <td>NO1_A2</td>\n",
       "      <td>GNR_BO_ELEC_E-99_LS-10-MW-FEED_Y-2030</td>\n",
       "      <td>ELECTRIC</td>\n",
       "      <td>ELECT-TO-HEAT</td>\n",
       "      <td>TWh</td>\n",
       "      <td>2044.609247</td>\n",
       "    </tr>\n",
       "    <tr>\n",
       "      <th>4</th>\n",
       "      <td>2030</td>\n",
       "      <td>NORWAY</td>\n",
       "      <td>NO1</td>\n",
       "      <td>NO1_A2</td>\n",
       "      <td>GNR_HS_HEAT_PIT_L-DEC_E-70_Y-2030</td>\n",
       "      <td>HEAT</td>\n",
       "      <td>INTERSEASONAL-HEAT-STORAGE</td>\n",
       "      <td>TWh</td>\n",
       "      <td>6744.888171</td>\n",
       "    </tr>\n",
       "    <tr>\n",
       "      <th>...</th>\n",
       "      <td>...</td>\n",
       "      <td>...</td>\n",
       "      <td>...</td>\n",
       "      <td>...</td>\n",
       "      <td>...</td>\n",
       "      <td>...</td>\n",
       "      <td>...</td>\n",
       "      <td>...</td>\n",
       "      <td>...</td>\n",
       "    </tr>\n",
       "    <tr>\n",
       "      <th>772</th>\n",
       "      <td>2050</td>\n",
       "      <td>DENMARK</td>\n",
       "      <td>DK2</td>\n",
       "      <td>DK2_IND-LT-DH</td>\n",
       "      <td>GNR_HS_HEAT_WTR-TANK_LS_E-95_Y-2010</td>\n",
       "      <td>HEAT</td>\n",
       "      <td>INTRASEASONAL-HEAT-STORAGE</td>\n",
       "      <td>TWh</td>\n",
       "      <td>0.042137</td>\n",
       "    </tr>\n",
       "    <tr>\n",
       "      <th>773</th>\n",
       "      <td>2050</td>\n",
       "      <td>DENMARK</td>\n",
       "      <td>DK2</td>\n",
       "      <td>DK2_IND-MT-NODH</td>\n",
       "      <td>MAGICG</td>\n",
       "      <td>MAGICF</td>\n",
       "      <td>CONDENSING</td>\n",
       "      <td>TWh</td>\n",
       "      <td>70.080000</td>\n",
       "    </tr>\n",
       "    <tr>\n",
       "      <th>774</th>\n",
       "      <td>2050</td>\n",
       "      <td>DENMARK</td>\n",
       "      <td>DK2</td>\n",
       "      <td>DK2_IND-MT-NODH</td>\n",
       "      <td>GNR_BO_ELEC_E-99_LS-10-MW-FEED_Y-2050</td>\n",
       "      <td>ELECTRIC</td>\n",
       "      <td>ELECT-TO-HEAT</td>\n",
       "      <td>TWh</td>\n",
       "      <td>2.412959</td>\n",
       "    </tr>\n",
       "    <tr>\n",
       "      <th>775</th>\n",
       "      <td>2050</td>\n",
       "      <td>DENMARK</td>\n",
       "      <td>DK2</td>\n",
       "      <td>DK2_IND-MT-DH</td>\n",
       "      <td>MAGICG</td>\n",
       "      <td>MAGICF</td>\n",
       "      <td>CONDENSING</td>\n",
       "      <td>TWh</td>\n",
       "      <td>70.080000</td>\n",
       "    </tr>\n",
       "    <tr>\n",
       "      <th>776</th>\n",
       "      <td>2050</td>\n",
       "      <td>DENMARK</td>\n",
       "      <td>DK2</td>\n",
       "      <td>DK2_IND-MT-DH</td>\n",
       "      <td>GNR_BO_ELEC_E-99_LS-10-MW-FEED_Y-2050</td>\n",
       "      <td>ELECTRIC</td>\n",
       "      <td>ELECT-TO-HEAT</td>\n",
       "      <td>TWh</td>\n",
       "      <td>0.629167</td>\n",
       "    </tr>\n",
       "  </tbody>\n",
       "</table>\n",
       "<p>777 rows × 9 columns</p>\n",
       "</div>"
      ],
      "text/plain": [
       "     Year  Country Region             Area  \\\n",
       "0    2030   NORWAY    NO1           NO1_A1   \n",
       "1    2030   NORWAY    NO1           NO1_A2   \n",
       "2    2030   NORWAY    NO1           NO1_A2   \n",
       "3    2030   NORWAY    NO1           NO1_A2   \n",
       "4    2030   NORWAY    NO1           NO1_A2   \n",
       "..    ...      ...    ...              ...   \n",
       "772  2050  DENMARK    DK2    DK2_IND-LT-DH   \n",
       "773  2050  DENMARK    DK2  DK2_IND-MT-NODH   \n",
       "774  2050  DENMARK    DK2  DK2_IND-MT-NODH   \n",
       "775  2050  DENMARK    DK2    DK2_IND-MT-DH   \n",
       "776  2050  DENMARK    DK2    DK2_IND-MT-DH   \n",
       "\n",
       "                                Generation      Fuel  \\\n",
       "0                                   MAGICG    MAGICF   \n",
       "1                                   MAGICG    MAGICF   \n",
       "2                         GNR_BO_ELEC_E-99  ELECTRIC   \n",
       "3    GNR_BO_ELEC_E-99_LS-10-MW-FEED_Y-2030  ELECTRIC   \n",
       "4        GNR_HS_HEAT_PIT_L-DEC_E-70_Y-2030      HEAT   \n",
       "..                                     ...       ...   \n",
       "772    GNR_HS_HEAT_WTR-TANK_LS_E-95_Y-2010      HEAT   \n",
       "773                                 MAGICG    MAGICF   \n",
       "774  GNR_BO_ELEC_E-99_LS-10-MW-FEED_Y-2050  ELECTRIC   \n",
       "775                                 MAGICG    MAGICF   \n",
       "776  GNR_BO_ELEC_E-99_LS-10-MW-FEED_Y-2050  ELECTRIC   \n",
       "\n",
       "                     Technology Unit        Value  \n",
       "0                    CONDENSING  TWh    70.080000  \n",
       "1                    CONDENSING  TWh    70.080000  \n",
       "2                 ELECT-TO-HEAT  TWh     0.340226  \n",
       "3                 ELECT-TO-HEAT  TWh  2044.609247  \n",
       "4    INTERSEASONAL-HEAT-STORAGE  TWh  6744.888171  \n",
       "..                          ...  ...          ...  \n",
       "772  INTRASEASONAL-HEAT-STORAGE  TWh     0.042137  \n",
       "773                  CONDENSING  TWh    70.080000  \n",
       "774               ELECT-TO-HEAT  TWh     2.412959  \n",
       "775                  CONDENSING  TWh    70.080000  \n",
       "776               ELECT-TO-HEAT  TWh     0.629167  \n",
       "\n",
       "[777 rows x 9 columns]"
      ]
     },
     "execution_count": 5,
     "metadata": {},
     "output_type": "execute_result"
    }
   ],
   "source": [
    "### Using symbol_to_df\n",
    "import gams\n",
    "import os\n",
    "ws = gams.GamsWorkspace()\n",
    "db = ws.add_database_from_gdx(os.path.abspath('files/MainResults_ScenarioName.gdx'))\n",
    "\n",
    "fuel = symbol_to_df(db, 'F_CONS_YCRA')\n",
    "fuel"
   ]
  }
 ],
 "metadata": {
  "kernelspec": {
   "display_name": "Python 3 (ipykernel)",
   "language": "python",
   "name": "python3"
  },
  "language_info": {
   "codemirror_mode": {
    "name": "ipython",
    "version": 3
   },
   "file_extension": ".py",
   "mimetype": "text/x-python",
   "name": "python",
   "nbconvert_exporter": "python",
   "pygments_lexer": "ipython3",
   "version": "3.9.11"
  }
 },
 "nbformat": 4,
 "nbformat_minor": 2
}
