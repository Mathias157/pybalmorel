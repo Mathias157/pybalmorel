{
 "cells": [
  {
   "cell_type": "code",
   "execution_count": 1,
   "metadata": {},
   "outputs": [
    {
     "name": "stdout",
     "output_type": "stream",
     "text": [
      "--- Warning: The GAMS version (45.6.0) differs from the API version (46.5.0).\n",
      "c:\\Users\\theod\\Documents\\Documents importants\\DTU\\Job\\Balmorel\\Balmorel + Optiflow\\Tools\\pybalmorel\\tests\\files\\MainResults_Example1.gdx\n",
      "c:\\Users\\theod\\Documents\\Documents importants\\DTU\\Job\\Balmorel\\Balmorel + Optiflow\\Tools\\pybalmorel\\tests\\files\\MainResults_Example2.gdx\n"
     ]
    },
    {
     "data": {
      "application/vnd.jupyter.widget-view+json": {
       "model_id": "84150cff809d4a7287db27c12728c8c7",
       "version_major": 2,
       "version_minor": 0
      },
      "text/plain": [
       "GridBox(children=(Dropdown(description='Table:', options=('F_CONS_YCRA', 'F_CONS_YCRAST', 'G_CAP_YCRAF', 'G_ST…"
      ]
     },
     "metadata": {},
     "output_type": "display_data"
    },
    {
     "data": {
      "application/vnd.jupyter.widget-view+json": {
       "model_id": "fdff97f3ad2247c0a7a343e9c19b198b",
       "version_major": 2,
       "version_minor": 0
      },
      "text/plain": [
       "Output()"
      ]
     },
     "metadata": {},
     "output_type": "display_data"
    },
    {
     "data": {
      "application/vnd.jupyter.widget-view+json": {
       "model_id": "50295d5b1bc14083908feb482b8ffba4",
       "version_major": 2,
       "version_minor": 0
      },
      "text/plain": [
       "Stack(children=(GridBox(children=(SelectMultiple(description='Scenario', index=(0,), options=('None',), value=…"
      ]
     },
     "metadata": {},
     "output_type": "display_data"
    },
    {
     "data": {
      "application/vnd.jupyter.widget-view+json": {
       "model_id": "cfa253aef0da4dd2a736b04dea0cb178",
       "version_major": 2,
       "version_minor": 0
      },
      "text/plain": [
       "Output()"
      ]
     },
     "metadata": {},
     "output_type": "display_data"
    },
    {
     "data": {
      "application/vnd.jupyter.widget-view+json": {
       "model_id": "3053e9aef181421ea8c3b8e7a968d256",
       "version_major": 2,
       "version_minor": 0
      },
      "text/plain": [
       "VBox(children=(HBox(children=(Text(value='', description='Title:'), FloatSlider(value=12.0, description='Size:…"
      ]
     },
     "metadata": {},
     "output_type": "display_data"
    },
    {
     "data": {
      "application/vnd.jupyter.widget-view+json": {
       "model_id": "509e9dfadf1f4def87c0059118e71d74",
       "version_major": 2,
       "version_minor": 0
      },
      "text/plain": [
       "Output()"
      ]
     },
     "metadata": {},
     "output_type": "display_data"
    },
    {
     "data": {
      "application/vnd.jupyter.widget-view+json": {
       "model_id": "9267a015a5df4be3a9b58889d6a6a88d",
       "version_major": 2,
       "version_minor": 0
      },
      "text/plain": [
       "Button(description='Plot', icon='check', style=ButtonStyle(), tooltip='Click to plot')"
      ]
     },
     "metadata": {},
     "output_type": "display_data"
    },
    {
     "data": {
      "application/vnd.jupyter.widget-view+json": {
       "model_id": "6045b1518f594109bc8520e307c15ac5",
       "version_major": 2,
       "version_minor": 0
      },
      "text/plain": [
       "Output()"
      ]
     },
     "metadata": {},
     "output_type": "display_data"
    }
   ],
   "source": [
    "# Please restart the kernel before launching the code. You can also press Ctrl+Shift+P and select \"Restart Kernel and Run All Cells\". You can also put this command as a shortcut.\n",
    "# To select shortcut, go to \"Preferences: Open Keyboard Shortcuts\"\n",
    "\n",
    "import sys\n",
    "import os\n",
    "import importlib\n",
    "# Adjust the sys.path to include the project root directory\n",
    "project_root = os.path.abspath(os.path.join(os.path.dirname(\"__file__\"), '..'))\n",
    "if project_root not in sys.path:\n",
    "    sys.path.insert(0, project_root)\n",
    "\n",
    "from pybalmorel.classes import MainResults\n",
    "\n",
    "res = MainResults(['MainResults_Example1.gdx',\n",
    "                   'MainResults_Example2.gdx'], \n",
    "                  'files',\n",
    "                  scenario_names=['SC1', 'SC2'])\n",
    "res.interactive_bar_chart()"
   ]
  }
 ],
 "metadata": {
  "kernelspec": {
   "display_name": "base",
   "language": "python",
   "name": "python3"
  },
  "language_info": {
   "codemirror_mode": {
    "name": "ipython",
    "version": 3
   },
   "file_extension": ".py",
   "mimetype": "text/x-python",
   "name": "python",
   "nbconvert_exporter": "python",
   "pygments_lexer": "ipython3",
   "version": "3.11.4"
  }
 },
 "nbformat": 4,
 "nbformat_minor": 2
}
