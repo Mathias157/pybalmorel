{
 "cells": [
  {
   "cell_type": "code",
   "execution_count": 13,
   "metadata": {},
   "outputs": [
    {
     "name": "stdout",
     "output_type": "stream",
     "text": [
      "--- Warning: The GAMS version (45.5.0) differs from the API version (46.5.0).\n",
      "c:\\Users\\mathi\\gitRepos\\pybalmorel\\tests\\files\\MainResults_Example1.gdx\n",
      "c:\\Users\\mathi\\gitRepos\\pybalmorel\\tests\\files\\MainResults_Example2.gdx\n"
     ]
    }
   ],
   "source": [
    "# Please restart the kernel before launching the code. You can also press Ctrl+Shift+P and select \"Restart Kernel and Run All Cells\". You can also put this command as a shortcut.\n",
    "# To select shortcut, go to \"Preferences: Open Keyboard Shortcuts\"\n",
    "\n",
    "import sys\n",
    "import os\n",
    "# Adjust the sys.path to include the project root directory\n",
    "project_root = os.path.abspath(os.path.join(os.path.dirname(\"__file__\"), '..'))\n",
    "if project_root not in sys.path:\n",
    "    sys.path.insert(0, project_root)\n",
    "\n",
    "from src.pybalmorel.classes import MainResults\n",
    "\n",
    "res = MainResults(['MainResults_Example1.gdx',\n",
    "                   'MainResults_Example2.gdx'], \n",
    "                  'files',\n",
    "                  scenario_names=['Scenario 1', 'Scenario 2'])\n",
    "res.interactive_bar_chart()"
   ]
  }
 ],
 "metadata": {
  "kernelspec": {
   "display_name": "base",
   "language": "python",
   "name": "python3"
  },
  "language_info": {
   "codemirror_mode": {
    "name": "ipython",
    "version": 3
   },
   "file_extension": ".py",
   "mimetype": "text/x-python",
   "name": "python",
   "nbconvert_exporter": "python",
   "pygments_lexer": "ipython3",
   "version": "3.9.11"
  }
 },
 "nbformat": 4,
 "nbformat_minor": 2
}
