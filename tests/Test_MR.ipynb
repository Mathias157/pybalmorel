{
 "cells": [
  {
   "cell_type": "code",
   "execution_count": 1,
   "metadata": {},
   "outputs": [
    {
     "name": "stdout",
     "output_type": "stream",
     "text": [
      "--- Warning: The GAMS version (45.6.0) differs from the API version (46.5.0).\n",
      "c:\\Users\\theod\\Documents\\Documents importants\\DTU\\Job\\Balmorel\\Balmorel + Optiflow\\Tools\\pybalmorel\\tests\\files\\MainResults_Example1.gdx\n",
      "c:\\Users\\theod\\Documents\\Documents importants\\DTU\\Job\\Balmorel\\Balmorel + Optiflow\\Tools\\pybalmorel\\tests\\files\\MainResults_Example2.gdx\n"
     ]
    },
    {
     "data": {
      "application/vnd.jupyter.widget-view+json": {
       "model_id": "cf6ece96c6a14f54b71b07344c7fc29a",
       "version_major": 2,
       "version_minor": 0
      },
      "text/plain": [
       "GridBox(children=(Dropdown(description='Table:', options=('F_CONS_YCRA', 'F_CONS_YCRAST', 'G_CAP_YCRAF', 'G_ST…"
      ]
     },
     "metadata": {},
     "output_type": "display_data"
    },
    {
     "data": {
      "application/vnd.jupyter.widget-view+json": {
       "model_id": "1f78deda0ab24138831b954083fc5f71",
       "version_major": 2,
       "version_minor": 0
      },
      "text/plain": [
       "Output()"
      ]
     },
     "metadata": {},
     "output_type": "display_data"
    },
    {
     "data": {
      "application/vnd.jupyter.widget-view+json": {
       "model_id": "4340b195cec744c7a4f23ab98d0bbca5",
       "version_major": 2,
       "version_minor": 0
      },
      "text/plain": [
       "Stack(children=(GridBox(children=(SelectMultiple(description='Scenario', index=(0,), options=('None',), value=…"
      ]
     },
     "metadata": {},
     "output_type": "display_data"
    },
    {
     "data": {
      "application/vnd.jupyter.widget-view+json": {
       "model_id": "41da51cfb537402daeecb3b2c8645c60",
       "version_major": 2,
       "version_minor": 0
      },
      "text/plain": [
       "Output()"
      ]
     },
     "metadata": {},
     "output_type": "display_data"
    },
    {
     "data": {
      "application/vnd.jupyter.widget-view+json": {
       "model_id": "8382b691f4c04f8abb02d8320e8d9b14",
       "version_major": 2,
       "version_minor": 0
      },
      "text/plain": [
       "VBox(children=(HBox(children=(Text(value='', description='Title:'), FloatSlider(value=12.0, description='Size:…"
      ]
     },
     "metadata": {},
     "output_type": "display_data"
    },
    {
     "data": {
      "application/vnd.jupyter.widget-view+json": {
       "model_id": "fca953148c574faa97d1fe205017dc55",
       "version_major": 2,
       "version_minor": 0
      },
      "text/plain": [
       "Output()"
      ]
     },
     "metadata": {},
     "output_type": "display_data"
    },
    {
     "data": {
      "application/vnd.jupyter.widget-view+json": {
       "model_id": "b24aa952aec24dc3a920ff61484867d6",
       "version_major": 2,
       "version_minor": 0
      },
      "text/plain": [
       "Button(description='Plot', icon='check', style=ButtonStyle(), tooltip='Click to plot')"
      ]
     },
     "metadata": {},
     "output_type": "display_data"
    },
    {
     "data": {
      "application/vnd.jupyter.widget-view+json": {
       "model_id": "8cd8c7e6beb74ad88c1dfee1c97f5fd6",
       "version_major": 2,
       "version_minor": 0
      },
      "text/plain": [
       "Output()"
      ]
     },
     "metadata": {},
     "output_type": "display_data"
    }
   ],
   "source": [
    "# Please restart the kernel before launching the code. You can also press Ctrl+Shift+P and select \"Restart Kernel and Run All Cells\". You can also put this command as a shortcut.\n",
    "# To select shortcut, go to \"Preferences: Open Keyboard Shortcuts\"\n",
    "\n",
    "import sys\n",
    "import os\n",
    "import importlib\n",
    "# Adjust the sys.path to include the project root directory\n",
    "project_root = os.path.abspath(os.path.join(os.path.dirname(\"__file__\"), '..'))\n",
    "if project_root not in sys.path:\n",
    "    sys.path.insert(0, project_root)\n",
    "\n",
    "from pybalmorel.classes import MainResults\n",
    "\n",
    "res = MainResults(['MainResults_Example1.gdx',\n",
    "                   'MainResults_Example2.gdx'], \n",
    "                  'files',\n",
    "                  scenario_names=['Scenario 1', 'Scenario 2'])\n",
    "res.interactive_bar_chart()"
   ]
  }
 ],
 "metadata": {
  "kernelspec": {
   "display_name": "base",
   "language": "python",
   "name": "python3"
  },
  "language_info": {
   "codemirror_mode": {
    "name": "ipython",
    "version": 3
   },
   "file_extension": ".py",
   "mimetype": "text/x-python",
   "name": "python",
   "nbconvert_exporter": "python",
   "pygments_lexer": "ipython3",
   "version": "3.11.4"
  }
 },
 "nbformat": 4,
 "nbformat_minor": 2
}
